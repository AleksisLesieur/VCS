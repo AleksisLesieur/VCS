{
 "cells": [
  {
   "cell_type": "markdown",
   "metadata": {},
   "source": [
    "1. Surasti didžiausią reikšmę esančia sąraše. Gautą reikšmę padalinti iš sąrašo narių sumos ir atspausdinti."
   ]
  },
  {
   "cell_type": "code",
   "execution_count": 25,
   "metadata": {},
   "outputs": [
    {
     "name": "stdout",
     "output_type": "stream",
     "text": [
      "0.34615384615384615\n"
     ]
    }
   ],
   "source": [
    "numbers = [3, 7, 1, 9, 4, 2]\n",
    "\n",
    "print(max(numbers) / sum(numbers))\n",
    "\n",
    "# Ats: 0.34615384615384615"
   ]
  },
  {
   "cell_type": "markdown",
   "metadata": {},
   "source": [
    "2. Turite sąrašą `fruits`, kuriame yra turimi vaisiai. Leisti vartotojui nurodyti norimą vaisių (naudoti input() ) ir atspausdinti ar vaisius yra sąraše."
   ]
  },
  {
   "cell_type": "code",
   "execution_count": 26,
   "metadata": {},
   "outputs": [
    {
     "name": "stdout",
     "output_type": "stream",
     "text": [
      "True\n"
     ]
    }
   ],
   "source": [
    "fruits = ['apple', 'banana', 'orange', 'grapes', 'pineapple',]\n",
    "\n",
    "looking = input('What fruit are you looking for?: ')\n",
    "\n",
    "print(looking in fruits)"
   ]
  },
  {
   "cell_type": "markdown",
   "metadata": {},
   "source": [
    "3. Paklauskite vartotojo, kiek skaičių (1-100) nori panaudoti skaičiavimams. Iš `list_1` paimti vartotojo nurodytą skaičių kiekį (naudoti *slicing*) ir išsaugoti `selected_numbers` kintamajame. Paskaičiuoti ir atspausdinti `selected_numbers` sumą, vidutinę, minimalią ir maksimalią vertę"
   ]
  },
  {
   "cell_type": "code",
   "execution_count": 27,
   "metadata": {},
   "outputs": [
    {
     "name": "stdout",
     "output_type": "stream",
     "text": [
      "the total sum of selected numbers is:  405\n",
      "the average number of selected numbers is:  40.5\n",
      "the smallest number of selected numbers is:  3\n",
      "the biggest number of selected numbers is:  97\n"
     ]
    }
   ],
   "source": [
    "list_1 = [11, 23, 97, 10, 55, 46, 16, 72, 3, 72, 17, 29, 21, 48, 50, 4, 73, 44, 18, 30, 53, 95, 15, 69, 86, 39, 6, 89, 89, 2, 26, 54, 27, 39, 3, 69, 21, 62, 99, 11, 49, 58, 78, 53, 46, 50, 39, 100, 77, 41, 7, 10, 53, 33, 74, 78, 20, 41, 65, 9, 84, 11, 90, 65, 43, 78, 15, 49, 87, 48, 84, 31, 17, 17, 60, 47, 71, 7, 23, 56, 74, 45, 74, 17, 27, 52, 80, 26, 93, 14, 76, 28, 99, 3, 61, 67, 71, 24, 77, 74]\n",
    "\n",
    "amount_of_numbers = int(input('how many numbers you want to take from the list?: '))\n",
    "\n",
    "selected_numbers = list_1[0:amount_of_numbers]\n",
    "\n",
    "print('the total sum of selected numbers is: ', sum(selected_numbers))\n",
    "\n",
    "print('the average number of selected numbers is: ', sum(selected_numbers) / len(selected_numbers))\n",
    "\n",
    "print('the smallest number of selected numbers is: ', min(selected_numbers))\n",
    "\n",
    "print('the biggest number of selected numbers is: ', max(selected_numbers))\n"
   ]
  },
  {
   "cell_type": "code",
   "execution_count": null,
   "metadata": {},
   "outputs": [],
   "source": []
  }
 ],
 "metadata": {
  "kernelspec": {
   "display_name": "Python 3",
   "language": "python",
   "name": "python3"
  },
  "language_info": {
   "codemirror_mode": {
    "name": "ipython",
    "version": 3
   },
   "file_extension": ".py",
   "mimetype": "text/x-python",
   "name": "python",
   "nbconvert_exporter": "python",
   "pygments_lexer": "ipython3",
   "version": "3.11.5"
  },
  "orig_nbformat": 4
 },
 "nbformat": 4,
 "nbformat_minor": 2
}
