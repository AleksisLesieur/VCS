{
 "cells": [
  {
   "cell_type": "markdown",
   "metadata": {},
   "source": [
    "1. Rasti pasikartojančius elementus tarp dviejų list'ų.\n",
    "   "
   ]
  },
  {
   "cell_type": "code",
   "execution_count": 95,
   "metadata": {},
   "outputs": [
    {
     "name": "stdout",
     "output_type": "stream",
     "text": [
      "[8, 9, 3, 15]\n",
      "[3, 8, 9, 15]\n"
     ]
    }
   ],
   "source": [
    "a = [1,2,3,4,5,6,7,8,9,15]\n",
    "b = [3,8,9,11,15]\n",
    "\n",
    "set1 = set(a)\n",
    "set2 = set(b)\n",
    "\n",
    "duplicates = set1.intersection(set2)\n",
    "\n",
    "duplicates_list = list(duplicates)\n",
    "\n",
    "print(duplicates_list)\n",
    "\n",
    "result = []\n",
    "\n",
    "for num in a:\n",
    "    for num_2 in b:\n",
    "        if num == num_2:\n",
    "            result.append(num)\n",
    "\n",
    "print(result)\n",
    "\n",
    "# Gauti rezultatą c = [3,8,9,15] nes šie skaičiai pasikartoja abiejuose listuose"
   ]
  },
  {
   "cell_type": "markdown",
   "metadata": {},
   "source": [
    "2. Išfiltruoti unikalius teigiamus numeris iš sąrašo."
   ]
  },
  {
   "cell_type": "code",
   "execution_count": 96,
   "metadata": {},
   "outputs": [
    {
     "name": "stdout",
     "output_type": "stream",
     "text": [
      "[800, 1, 2, 900, 5, 8, 10, 12, 14]\n"
     ]
    }
   ],
   "source": [
    "x = [1, 5, 1, 2, 8, -9, 10, 1, -8, -900, 14, 5, -8, 2, 1, -20, 900, 800, -6, -8, 12, 1]\n",
    "\n",
    "x_list = list(set(x))\n",
    "\n",
    "result = []\n",
    "\n",
    "for num in x_list:\n",
    "    if num >= 0:\n",
    "        result.append(num)\n",
    "\n",
    "\n",
    "print(result)\n",
    "\n",
    "# nezinau ar teisingai padariau nes ne iki galo uzduoti supratau..."
   ]
  },
  {
   "cell_type": "markdown",
   "metadata": {},
   "source": [
    "3. Paskaičiuoti pelną pardavus visas prekes. Informacija apie kainą ir kiekius yra pateikiama kaip dictionary, atsakymą suapvalinti iki 2 skaičių po kablelio."
   ]
  },
  {
   "cell_type": "code",
   "execution_count": 97,
   "metadata": {},
   "outputs": [
    {
     "name": "stdout",
     "output_type": "stream",
     "text": [
      "14943.96\n"
     ]
    }
   ],
   "source": [
    "import math\n",
    "\n",
    "x = { \n",
    "    \"cost_price\": 32.67,\n",
    "    \"sell_price\": 45.00,\n",
    "    \"inventory\": 1212\n",
    "}\n",
    "\n",
    "total = math.ceil((x['sell_price'] - x[\"cost_price\"]) * x[\"inventory\"] * 100) / 100\n",
    "\n",
    "print(total)"
   ]
  },
  {
   "cell_type": "markdown",
   "metadata": {},
   "source": [
    "4. Turėdami list’ą, gaukite didžiausią šalia esančių skaičių sandaugą."
   ]
  },
  {
   "cell_type": "code",
   "execution_count": 98,
   "metadata": {},
   "outputs": [
    {
     "name": "stdout",
     "output_type": "stream",
     "text": [
      "21\n"
     ]
    }
   ],
   "source": [
    "my_list = [3, 6, -2, -5, 7, 3]\n",
    "\n",
    "result = []\n",
    "\n",
    "for num in range(0, len(my_list) - 1):\n",
    "    result.append(my_list[num] * my_list[num + 1])\n",
    "\n",
    "print(max(result))\n",
    "\n",
    "# rezultatas = 21, nes 7 ir 3 sandauga yra didžiausia"
   ]
  },
  {
   "cell_type": "markdown",
   "metadata": {},
   "source": [
    "5. Iš žodžių sąrašo atsakyti į šiuos klausimus:\n",
    "* Kiek žodžių yra ilgesnių nei 10 simbolių\n",
    "* Kuris žodis yra ilgiausias ir trumpiausias\n",
    "* Ar nors vienas žodis yra palindromas, jei taip, koks arba kokie tai žodžiai\n",
    "\n",
    "Palindromas - atvirkščiai skaitant žodį, gaunasi tas pats žodis.\n",
    "savas -> savas"
   ]
  },
  {
   "cell_type": "code",
   "execution_count": 99,
   "metadata": {},
   "outputs": [
    {
     "name": "stdout",
     "output_type": "stream",
     "text": [
      "['automobilis'] ['naman'] alus automobilis\n"
     ]
    }
   ],
   "source": [
    "words_list = [\"medis\", \"alus\", \"sakotis\", \"kava\", \"mėtėm \", \"saldainis\", \"kepure\", \"automobilis\", \"naman\", \"ragas\"]\n",
    "\n",
    "more_than_ten = []\n",
    "\n",
    "shortest_str = min(words_list, key=len)\n",
    "\n",
    "longest_str = max(words_list, key=len)\n",
    "\n",
    "palindrome_list = []\n",
    "\n",
    "for word in words_list:\n",
    "    if len(word) > 10:\n",
    "        more_than_ten.append(word)\n",
    "    if word[::-1] == word:\n",
    "        palindrome_list.append(word)\n",
    "\n",
    "print(more_than_ten, palindrome_list, shortest_str, longest_str)\n"
   ]
  },
  {
   "cell_type": "markdown",
   "metadata": {},
   "source": [
    "6. Parašykite funkciją, kuri priims string tipo kintamąjį, gražinkite kiek tame stringę yra raidžių, skaičių ir skyrybos (specialių) ženklų, tarpų.\n",
    "   \n",
    "Pvz: \n",
    "simboliu_ieskotojas('vienas 2 ??')\n",
    "\n",
    "atspausdins:\n",
    "\"Raidžių yra 6, skaičių yra 1, simbolių yra 2, tarpų yra 2\""
   ]
  },
  {
   "cell_type": "code",
   "execution_count": 100,
   "metadata": {},
   "outputs": [
    {
     "name": "stdout",
     "output_type": "stream",
     "text": [
      "Raidžių yra 7, skaičių yra 9, simbolių yra 9, tarpų yra 8\n"
     ]
    }
   ],
   "source": [
    "def check_str(str):\n",
    "    letters = 0\n",
    "    numbers = 0\n",
    "    symbols = 0\n",
    "    spaces = 0\n",
    "    for char in str:\n",
    "        if ord(char) == 32:\n",
    "            spaces += 1\n",
    "        if ord(char) >= 33 and ord(char) <= 47 or ord(char) >= 58 and ord(char) <= 64:\n",
    "            symbols += 1\n",
    "        if ord(char) >= 65 and ord(char) <= 90 or ord(char) >= 97 and ord(char) <= 122:\n",
    "            letters +=1\n",
    "        if ord(char) >= 48 and ord(char) <= 57:\n",
    "            numbers += 1\n",
    "    return f\"Raidžių yra {letters}, skaičių yra {numbers}, simbolių yra {symbols}, tarpų yra {spaces}\"\n",
    "\n",
    "print(check_str(\"12   3456     789,./,./,./abcdefg\"))\n",
    "\n",
    "# dar reiketu papildyti antra \"if\" statement'a jog testuotu visus imanoma simbolius, taciau neturiu visu simboliu saraso"
   ]
  },
  {
   "cell_type": "markdown",
   "metadata": {},
   "source": [
    "7. Parašykite funkciją, kuri priima tris skaičius, jie reikš nuo, iki ir žingsnis. Funkcija turi grąžinti listą skaičių tokių, kokius padavėte funkcijai\n",
    "\n",
    "print(skaiciuKurejas(10,100,5)) ->\n",
    "[10, 15, 20, 25, 30, 35, 40, 45, 50, 55, 60, 65, 70, 75, 80, 85, 90, 95]"
   ]
  },
  {
   "cell_type": "code",
   "execution_count": 101,
   "metadata": {},
   "outputs": [
    {
     "name": "stdout",
     "output_type": "stream",
     "text": [
      "[10, 15, 20, 25, 30, 35, 40, 45, 50, 55, 60, 65, 70, 75, 80, 85, 90, 95, 100]\n"
     ]
    }
   ],
   "source": [
    "def skaiciu_kurejas(first_num, last_num, step):\n",
    "    result = []\n",
    "    for num in range(first_num, last_num + 1, step):\n",
    "        result.append(num)\n",
    "    return result\n",
    "print(skaiciu_kurejas(10,100,5))"
   ]
  },
  {
   "cell_type": "markdown",
   "metadata": {},
   "source": [
    "8. Parašyti funkciją, kuri priima vieną list tipo kintamąjį, funkcija grąžina skirtumą tarp didžiausio skaičiaus ir mažiausio skaičiaus.\n",
    "\n",
    "myFunction([1, 5, 6, 10, 4])\n",
    "\n",
    "ATS: 9 , nes max yra 10, o min yra 1"
   ]
  },
  {
   "cell_type": "code",
   "execution_count": 102,
   "metadata": {},
   "outputs": [
    {
     "name": "stdout",
     "output_type": "stream",
     "text": [
      "9\n"
     ]
    }
   ],
   "source": [
    "def my_function(arr):\n",
    "    max_num = max(arr)\n",
    "    min_num = min(arr)\n",
    "    return max_num - min_num\n",
    "\n",
    "print(my_function([1,5,6,10,4]))"
   ]
  }
 ],
 "metadata": {
  "kernelspec": {
   "display_name": "Python 3",
   "language": "python",
   "name": "python3"
  },
  "language_info": {
   "codemirror_mode": {
    "name": "ipython",
    "version": 3
   },
   "file_extension": ".py",
   "mimetype": "text/x-python",
   "name": "python",
   "nbconvert_exporter": "python",
   "pygments_lexer": "ipython3",
   "version": "3.11.5"
  }
 },
 "nbformat": 4,
 "nbformat_minor": 2
}
